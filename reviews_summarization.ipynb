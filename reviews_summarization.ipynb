{
 "cells": [
  {
   "cell_type": "markdown",
   "metadata": {},
   "source": [
    "## Connecting to Data"
   ]
  },
  {
   "cell_type": "code",
   "execution_count": 2,
   "metadata": {},
   "outputs": [],
   "source": [
    "from pymongo import MongoClient\n",
    "\n",
    "# Connect the notebook to the MongoDB database - \"amazonreviews\"\n",
    "client = MongoClient()\n",
    "db = client.amazonreviews"
   ]
  },
  {
   "cell_type": "code",
   "execution_count": 3,
   "metadata": {},
   "outputs": [
    {
     "data": {
      "text/plain": [
       "[{'_id': ObjectId('5f391bb6bd04e741588262bc'),\n",
       "  'marketplace': 'US',\n",
       "  'customer_id': 32715830,\n",
       "  'review_id': 'R2GANXKDIFZ6OI',\n",
       "  'product_id': '014241543X',\n",
       "  'product_parent': 712432151,\n",
       "  'product_title': 'If I Stay',\n",
       "  'product_category': 'Books',\n",
       "  'star_rating': 5,\n",
       "  'helpful_votes': 0,\n",
       "  'total_votes': 0,\n",
       "  'vine': 'N',\n",
       "  'verified_purchase': 'N',\n",
       "  'review_headline': 'Five Stars',\n",
       "  'review_body': 'So beautiful',\n",
       "  'review_date': '2015-08-31'}]"
      ]
     },
     "execution_count": 3,
     "metadata": {},
     "output_type": "execute_result"
    }
   ],
   "source": [
    "# Show one of the documnets in the collection \"Books\"\n",
    "list(db.Books.find().limit(1))"
   ]
  },
  {
   "cell_type": "code",
   "execution_count": 4,
   "metadata": {},
   "outputs": [],
   "source": [
    "import pandas as pd\n",
    "\n",
    "# Create a new dataframe for the Harry Potter by using \"product_parent': 667539744\"\n",
    "HarryPotter_cursor = db.Books.find({'product_parent': 667539744 })\n",
    "HarryPotter_df_raw = pd.DataFrame(list(HarryPotter_cursor))  "
   ]
  },
  {
   "cell_type": "markdown",
   "metadata": {},
   "source": [
    "## Exploratory Data Analysis"
   ]
  },
  {
   "cell_type": "code",
   "execution_count": 5,
   "metadata": {},
   "outputs": [
    {
     "data": {
      "text/html": [
       "<div>\n",
       "<style scoped>\n",
       "    .dataframe tbody tr th:only-of-type {\n",
       "        vertical-align: middle;\n",
       "    }\n",
       "\n",
       "    .dataframe tbody tr th {\n",
       "        vertical-align: top;\n",
       "    }\n",
       "\n",
       "    .dataframe thead th {\n",
       "        text-align: right;\n",
       "    }\n",
       "</style>\n",
       "<table border=\"1\" class=\"dataframe\">\n",
       "  <thead>\n",
       "    <tr style=\"text-align: right;\">\n",
       "      <th></th>\n",
       "      <th>_id</th>\n",
       "      <th>marketplace</th>\n",
       "      <th>customer_id</th>\n",
       "      <th>review_id</th>\n",
       "      <th>product_id</th>\n",
       "      <th>product_parent</th>\n",
       "      <th>product_title</th>\n",
       "      <th>product_category</th>\n",
       "      <th>star_rating</th>\n",
       "      <th>helpful_votes</th>\n",
       "      <th>total_votes</th>\n",
       "      <th>vine</th>\n",
       "      <th>verified_purchase</th>\n",
       "      <th>review_headline</th>\n",
       "      <th>review_body</th>\n",
       "      <th>review_date</th>\n",
       "    </tr>\n",
       "  </thead>\n",
       "  <tbody>\n",
       "    <tr>\n",
       "      <th>0</th>\n",
       "      <td>5f391bb6bd04e74158826435</td>\n",
       "      <td>US</td>\n",
       "      <td>42198815</td>\n",
       "      <td>R1L0NE9TE6EAYU</td>\n",
       "      <td>7020033458</td>\n",
       "      <td>667539744</td>\n",
       "      <td>Harry Potter and the Prisoner of Azkaban (Simp...</td>\n",
       "      <td>Books</td>\n",
       "      <td>5</td>\n",
       "      <td>0</td>\n",
       "      <td>0</td>\n",
       "      <td>N</td>\n",
       "      <td>Y</td>\n",
       "      <td>Five Stars</td>\n",
       "      <td>GREAT THANKS.</td>\n",
       "      <td>2015-08-31</td>\n",
       "    </tr>\n",
       "    <tr>\n",
       "      <th>1</th>\n",
       "      <td>5f391bb6bd04e74158827679</td>\n",
       "      <td>US</td>\n",
       "      <td>5328185</td>\n",
       "      <td>RD5V8C95DUZZ7</td>\n",
       "      <td>059035342X</td>\n",
       "      <td>667539744</td>\n",
       "      <td>Harry Potter and the Sorcerer's Stone</td>\n",
       "      <td>Books</td>\n",
       "      <td>5</td>\n",
       "      <td>0</td>\n",
       "      <td>0</td>\n",
       "      <td>N</td>\n",
       "      <td>N</td>\n",
       "      <td>This book is absolutely amazing! It is a favor...</td>\n",
       "      <td>This book is absolutely amazing! It is a favor...</td>\n",
       "      <td>2015-08-31</td>\n",
       "    </tr>\n",
       "    <tr>\n",
       "      <th>2</th>\n",
       "      <td>5f391bb6bd04e741588280ad</td>\n",
       "      <td>US</td>\n",
       "      <td>42237878</td>\n",
       "      <td>R3LW2TZQ5FLYGF</td>\n",
       "      <td>545162076</td>\n",
       "      <td>667539744</td>\n",
       "      <td>Harry Potter Paperback Box Set (Books 1-7)</td>\n",
       "      <td>Books</td>\n",
       "      <td>5</td>\n",
       "      <td>0</td>\n",
       "      <td>1</td>\n",
       "      <td>N</td>\n",
       "      <td>Y</td>\n",
       "      <td>Five Stars</td>\n",
       "      <td>What's not to love about Harry Potter? Books w...</td>\n",
       "      <td>2015-08-31</td>\n",
       "    </tr>\n",
       "    <tr>\n",
       "      <th>3</th>\n",
       "      <td>5f391bb6bd04e741588280fc</td>\n",
       "      <td>US</td>\n",
       "      <td>12175857</td>\n",
       "      <td>R26KVAWWVTNZHF</td>\n",
       "      <td>439136369</td>\n",
       "      <td>667539744</td>\n",
       "      <td>Harry Potter and the Prisoner of Azkaban</td>\n",
       "      <td>Books</td>\n",
       "      <td>4</td>\n",
       "      <td>0</td>\n",
       "      <td>0</td>\n",
       "      <td>N</td>\n",
       "      <td>N</td>\n",
       "      <td>Rowling escalates her game and ups the ante</td>\n",
       "      <td>Prisoner_of_Azkaban_coverDo I need to put a su...</td>\n",
       "      <td>2015-08-31</td>\n",
       "    </tr>\n",
       "    <tr>\n",
       "      <th>4</th>\n",
       "      <td>5f391bb7bd04e741588290c6</td>\n",
       "      <td>US</td>\n",
       "      <td>16802733</td>\n",
       "      <td>RWIEHV6WZYGD7</td>\n",
       "      <td>545010225</td>\n",
       "      <td>667539744</td>\n",
       "      <td>Harry Potter and the Deathly Hallows (Book 7)</td>\n",
       "      <td>Books</td>\n",
       "      <td>5</td>\n",
       "      <td>0</td>\n",
       "      <td>0</td>\n",
       "      <td>N</td>\n",
       "      <td>Y</td>\n",
       "      <td>Harry Potter... enough said.</td>\n",
       "      <td>Harry Potter... enough said.</td>\n",
       "      <td>2015-08-31</td>\n",
       "    </tr>\n",
       "  </tbody>\n",
       "</table>\n",
       "</div>"
      ],
      "text/plain": [
       "                        _id marketplace  customer_id       review_id  \\\n",
       "0  5f391bb6bd04e74158826435          US     42198815  R1L0NE9TE6EAYU   \n",
       "1  5f391bb6bd04e74158827679          US      5328185   RD5V8C95DUZZ7   \n",
       "2  5f391bb6bd04e741588280ad          US     42237878  R3LW2TZQ5FLYGF   \n",
       "3  5f391bb6bd04e741588280fc          US     12175857  R26KVAWWVTNZHF   \n",
       "4  5f391bb7bd04e741588290c6          US     16802733   RWIEHV6WZYGD7   \n",
       "\n",
       "   product_id  product_parent  \\\n",
       "0  7020033458       667539744   \n",
       "1  059035342X       667539744   \n",
       "2   545162076       667539744   \n",
       "3   439136369       667539744   \n",
       "4   545010225       667539744   \n",
       "\n",
       "                                       product_title product_category  \\\n",
       "0  Harry Potter and the Prisoner of Azkaban (Simp...            Books   \n",
       "1              Harry Potter and the Sorcerer's Stone            Books   \n",
       "2         Harry Potter Paperback Box Set (Books 1-7)            Books   \n",
       "3           Harry Potter and the Prisoner of Azkaban            Books   \n",
       "4      Harry Potter and the Deathly Hallows (Book 7)            Books   \n",
       "\n",
       "   star_rating  helpful_votes  total_votes vine verified_purchase  \\\n",
       "0            5              0            0    N                 Y   \n",
       "1            5              0            0    N                 N   \n",
       "2            5              0            1    N                 Y   \n",
       "3            4              0            0    N                 N   \n",
       "4            5              0            0    N                 Y   \n",
       "\n",
       "                                     review_headline  \\\n",
       "0                                         Five Stars   \n",
       "1  This book is absolutely amazing! It is a favor...   \n",
       "2                                         Five Stars   \n",
       "3        Rowling escalates her game and ups the ante   \n",
       "4                       Harry Potter... enough said.   \n",
       "\n",
       "                                         review_body review_date  \n",
       "0                                      GREAT THANKS.  2015-08-31  \n",
       "1  This book is absolutely amazing! It is a favor...  2015-08-31  \n",
       "2  What's not to love about Harry Potter? Books w...  2015-08-31  \n",
       "3  Prisoner_of_Azkaban_coverDo I need to put a su...  2015-08-31  \n",
       "4                       Harry Potter... enough said.  2015-08-31  "
      ]
     },
     "execution_count": 5,
     "metadata": {},
     "output_type": "execute_result"
    }
   ],
   "source": [
    "# Show the first five rows in the dataframe \"HP_df_raw\"\n",
    "HarryPotter_df_raw.head(5)"
   ]
  },
  {
   "cell_type": "code",
   "execution_count": 6,
   "metadata": {},
   "outputs": [
    {
     "name": "stdout",
     "output_type": "stream",
     "text": [
      "<class 'pandas.core.frame.DataFrame'>\n",
      "RangeIndex: 28440 entries, 0 to 28439\n",
      "Data columns (total 16 columns):\n",
      " #   Column             Non-Null Count  Dtype \n",
      "---  ------             --------------  ----- \n",
      " 0   _id                28440 non-null  object\n",
      " 1   marketplace        28440 non-null  object\n",
      " 2   customer_id        28440 non-null  int64 \n",
      " 3   review_id          28440 non-null  object\n",
      " 4   product_id         28440 non-null  object\n",
      " 5   product_parent     28440 non-null  int64 \n",
      " 6   product_title      28440 non-null  object\n",
      " 7   product_category   28440 non-null  object\n",
      " 8   star_rating        28440 non-null  int64 \n",
      " 9   helpful_votes      28440 non-null  int64 \n",
      " 10  total_votes        28440 non-null  int64 \n",
      " 11  vine               28440 non-null  object\n",
      " 12  verified_purchase  28440 non-null  object\n",
      " 13  review_headline    28440 non-null  object\n",
      " 14  review_body        28440 non-null  object\n",
      " 15  review_date        28440 non-null  object\n",
      "dtypes: int64(5), object(11)\n",
      "memory usage: 3.5+ MB\n"
     ]
    }
   ],
   "source": [
    "# Get info on \"HarryPotter_df_raw\"\n",
    "HarryPotter_df_raw.info()"
   ]
  },
  {
   "cell_type": "code",
   "execution_count": 7,
   "metadata": {},
   "outputs": [
    {
     "data": {
      "text/plain": [
       "_id                  False\n",
       "marketplace          False\n",
       "customer_id          False\n",
       "review_id            False\n",
       "product_id           False\n",
       "product_parent       False\n",
       "product_title        False\n",
       "product_category     False\n",
       "star_rating          False\n",
       "helpful_votes        False\n",
       "total_votes          False\n",
       "vine                 False\n",
       "verified_purchase    False\n",
       "review_headline      False\n",
       "review_body          False\n",
       "review_date          False\n",
       "dtype: bool"
      ]
     },
     "execution_count": 7,
     "metadata": {},
     "output_type": "execute_result"
    }
   ],
   "source": [
    "# Check for NaN values\n",
    "HarryPotter_df_raw.isnull().any()"
   ]
  },
  {
   "cell_type": "code",
   "execution_count": 8,
   "metadata": {},
   "outputs": [],
   "source": [
    "# Filter columns and delete \"HarryPotter_df_raw\"\n",
    "HarryPotter_df = HarryPotter_df_raw.filter(['marketplace','customer_id','review_id','product_id','product_title','roduct_title','star_rating','helpful_votes','total_votes','vine','verified_purchase','review_headline','review_body','review_date'])\n",
    "del HarryPotter_df_raw"
   ]
  },
  {
   "cell_type": "code",
   "execution_count": 9,
   "metadata": {},
   "outputs": [],
   "source": [
    "# Revome any duplicates\n",
    "HarryPotter_df = HarryPotter_df.drop_duplicates(subset=['review_id'])"
   ]
  },
  {
   "cell_type": "code",
   "execution_count": 10,
   "metadata": {},
   "outputs": [],
   "source": [
    "# Change \"Y\" and \"N\" to integers 1 and 0\n",
    "HarryPotter_df = HarryPotter_df.replace('Y', 1)\n",
    "HarryPotter_df = HarryPotter_df.replace('N', 0)"
   ]
  },
  {
   "cell_type": "code",
   "execution_count": 12,
   "metadata": {},
   "outputs": [],
   "source": [
    "import bs4\n",
    "\n",
    "# Revome HTML\n",
    "HarryPotter_df['review_body'] = HarryPotter_df['review_body'].apply(lambda x: bs4.BeautifulSoup(x, 'lxml').get_text())"
   ]
  },
  {
   "cell_type": "markdown",
   "metadata": {},
   "source": [
    " ### Hyperparameter"
   ]
  },
  {
   "cell_type": "code",
   "execution_count": 25,
   "metadata": {},
   "outputs": [],
   "source": [
    "# Create sentiment parameter based on star rating\n",
    "def get_sentiment(value):\n",
    "    if value > 3:\n",
    "        return 1\n",
    "    elif value < 3:\n",
    "        return -1\n",
    "    else:\n",
    "        return 0\n",
    "\n",
    "HarryPotter_df['star_sentiment'] = HarryPotter_df.star_rating.apply(get_sentiment)"
   ]
  },
  {
   "cell_type": "code",
   "execution_count": 26,
   "metadata": {},
   "outputs": [
    {
     "name": "stdout",
     "output_type": "stream",
     "text": [
      " 1    25750\n",
      " 0     1415\n",
      "-1     1275\n",
      "Name: star_sentiment, dtype: int64\n"
     ]
    }
   ],
   "source": [
    "# Find number of review for each sentiment\n",
    "print(HarryPotter_df['star_sentiment'].value_counts())"
   ]
  },
  {
   "cell_type": "code",
   "execution_count": 23,
   "metadata": {},
   "outputs": [],
   "source": [
    "# Find number of words in review_body\n",
    "HarryPotter_df[\"num_words\"] = HarryPotter_df[\"review_body\"].apply(lambda x: len(str(x).split()))"
   ]
  },
  {
   "cell_type": "code",
   "execution_count": 14,
   "metadata": {},
   "outputs": [],
   "source": [
    "# Find number of unique words in review_body\n",
    "HarryPotter_df[\"num_unique_words\"] = HarryPotter_df[\"review_body\"].apply(lambda x: len(set(str(x).split())))"
   ]
  },
  {
   "cell_type": "code",
   "execution_count": 15,
   "metadata": {},
   "outputs": [],
   "source": [
    "# Find number of characters in review_body\n",
    "HarryPotter_df[\"num_chars\"] = HarryPotter_df[\"review_body\"].apply(lambda x: len(str(x)))"
   ]
  },
  {
   "cell_type": "code",
   "execution_count": 17,
   "metadata": {},
   "outputs": [],
   "source": [
    "import string\n",
    "\n",
    "# Find number of punctuation marks in review_body\n",
    "HarryPotter_df[\"num_punctuations\"] = HarryPotter_df['review_body'].apply(lambda x: len([c for c in str(x) if c in string.punctuation]) )"
   ]
  },
  {
   "cell_type": "code",
   "execution_count": 19,
   "metadata": {},
   "outputs": [],
   "source": [
    "import numpy as np\n",
    "\n",
    "# Find average length of the words in review_body\n",
    "HarryPotter_df[\"mean_word_len\"] = HarryPotter_df[\"review_body\"].apply(lambda x: np.mean([len(w) for w in str(x).split()]))"
   ]
  },
  {
   "cell_type": "code",
   "execution_count": 20,
   "metadata": {},
   "outputs": [
    {
     "data": {
      "text/html": [
       "<div>\n",
       "<style scoped>\n",
       "    .dataframe tbody tr th:only-of-type {\n",
       "        vertical-align: middle;\n",
       "    }\n",
       "\n",
       "    .dataframe tbody tr th {\n",
       "        vertical-align: top;\n",
       "    }\n",
       "\n",
       "    .dataframe thead th {\n",
       "        text-align: right;\n",
       "    }\n",
       "</style>\n",
       "<table border=\"1\" class=\"dataframe\">\n",
       "  <thead>\n",
       "    <tr style=\"text-align: right;\">\n",
       "      <th></th>\n",
       "      <th>customer_id</th>\n",
       "      <th>star_rating</th>\n",
       "      <th>helpful_votes</th>\n",
       "      <th>total_votes</th>\n",
       "      <th>vine</th>\n",
       "      <th>verified_purchase</th>\n",
       "      <th>num_words</th>\n",
       "      <th>num_unique_words</th>\n",
       "      <th>num_chars</th>\n",
       "      <th>num_punctuations</th>\n",
       "      <th>mean_word_len</th>\n",
       "    </tr>\n",
       "  </thead>\n",
       "  <tbody>\n",
       "    <tr>\n",
       "      <th>count</th>\n",
       "      <td>2.844000e+04</td>\n",
       "      <td>28440.000000</td>\n",
       "      <td>28440.000000</td>\n",
       "      <td>28440.000000</td>\n",
       "      <td>28440.0</td>\n",
       "      <td>28440.00000</td>\n",
       "      <td>28440.000000</td>\n",
       "      <td>28440.000000</td>\n",
       "      <td>28440.000000</td>\n",
       "      <td>28440.000000</td>\n",
       "      <td>28440.000000</td>\n",
       "    </tr>\n",
       "    <tr>\n",
       "      <th>mean</th>\n",
       "      <td>3.771665e+07</td>\n",
       "      <td>4.621624</td>\n",
       "      <td>1.789768</td>\n",
       "      <td>3.215084</td>\n",
       "      <td>0.0</td>\n",
       "      <td>0.30770</td>\n",
       "      <td>130.238432</td>\n",
       "      <td>84.628200</td>\n",
       "      <td>721.107419</td>\n",
       "      <td>22.695464</td>\n",
       "      <td>4.490633</td>\n",
       "    </tr>\n",
       "    <tr>\n",
       "      <th>std</th>\n",
       "      <td>1.475048e+07</td>\n",
       "      <td>0.860609</td>\n",
       "      <td>16.472034</td>\n",
       "      <td>20.485293</td>\n",
       "      <td>0.0</td>\n",
       "      <td>0.46155</td>\n",
       "      <td>164.755524</td>\n",
       "      <td>77.379865</td>\n",
       "      <td>943.888726</td>\n",
       "      <td>32.694961</td>\n",
       "      <td>7.702693</td>\n",
       "    </tr>\n",
       "    <tr>\n",
       "      <th>min</th>\n",
       "      <td>1.558400e+04</td>\n",
       "      <td>1.000000</td>\n",
       "      <td>0.000000</td>\n",
       "      <td>0.000000</td>\n",
       "      <td>0.0</td>\n",
       "      <td>0.00000</td>\n",
       "      <td>1.000000</td>\n",
       "      <td>1.000000</td>\n",
       "      <td>1.000000</td>\n",
       "      <td>0.000000</td>\n",
       "      <td>1.000000</td>\n",
       "    </tr>\n",
       "    <tr>\n",
       "      <th>25%</th>\n",
       "      <td>2.650001e+07</td>\n",
       "      <td>5.000000</td>\n",
       "      <td>0.000000</td>\n",
       "      <td>0.000000</td>\n",
       "      <td>0.0</td>\n",
       "      <td>0.00000</td>\n",
       "      <td>38.000000</td>\n",
       "      <td>33.000000</td>\n",
       "      <td>202.000000</td>\n",
       "      <td>6.000000</td>\n",
       "      <td>4.153846</td>\n",
       "    </tr>\n",
       "    <tr>\n",
       "      <th>50%</th>\n",
       "      <td>4.331718e+07</td>\n",
       "      <td>5.000000</td>\n",
       "      <td>0.000000</td>\n",
       "      <td>1.000000</td>\n",
       "      <td>0.0</td>\n",
       "      <td>0.00000</td>\n",
       "      <td>82.000000</td>\n",
       "      <td>63.000000</td>\n",
       "      <td>439.000000</td>\n",
       "      <td>13.000000</td>\n",
       "      <td>4.411494</td>\n",
       "    </tr>\n",
       "    <tr>\n",
       "      <th>75%</th>\n",
       "      <td>5.066011e+07</td>\n",
       "      <td>5.000000</td>\n",
       "      <td>1.000000</td>\n",
       "      <td>2.000000</td>\n",
       "      <td>0.0</td>\n",
       "      <td>1.00000</td>\n",
       "      <td>160.000000</td>\n",
       "      <td>111.000000</td>\n",
       "      <td>879.000000</td>\n",
       "      <td>27.000000</td>\n",
       "      <td>4.666667</td>\n",
       "    </tr>\n",
       "    <tr>\n",
       "      <th>max</th>\n",
       "      <td>5.309619e+07</td>\n",
       "      <td>5.000000</td>\n",
       "      <td>1550.000000</td>\n",
       "      <td>1646.000000</td>\n",
       "      <td>0.0</td>\n",
       "      <td>1.00000</td>\n",
       "      <td>6556.000000</td>\n",
       "      <td>1587.000000</td>\n",
       "      <td>38667.000000</td>\n",
       "      <td>1508.000000</td>\n",
       "      <td>1300.000000</td>\n",
       "    </tr>\n",
       "  </tbody>\n",
       "</table>\n",
       "</div>"
      ],
      "text/plain": [
       "        customer_id   star_rating  helpful_votes   total_votes     vine  \\\n",
       "count  2.844000e+04  28440.000000   28440.000000  28440.000000  28440.0   \n",
       "mean   3.771665e+07      4.621624       1.789768      3.215084      0.0   \n",
       "std    1.475048e+07      0.860609      16.472034     20.485293      0.0   \n",
       "min    1.558400e+04      1.000000       0.000000      0.000000      0.0   \n",
       "25%    2.650001e+07      5.000000       0.000000      0.000000      0.0   \n",
       "50%    4.331718e+07      5.000000       0.000000      1.000000      0.0   \n",
       "75%    5.066011e+07      5.000000       1.000000      2.000000      0.0   \n",
       "max    5.309619e+07      5.000000    1550.000000   1646.000000      0.0   \n",
       "\n",
       "       verified_purchase     num_words  num_unique_words     num_chars  \\\n",
       "count        28440.00000  28440.000000      28440.000000  28440.000000   \n",
       "mean             0.30770    130.238432         84.628200    721.107419   \n",
       "std              0.46155    164.755524         77.379865    943.888726   \n",
       "min              0.00000      1.000000          1.000000      1.000000   \n",
       "25%              0.00000     38.000000         33.000000    202.000000   \n",
       "50%              0.00000     82.000000         63.000000    439.000000   \n",
       "75%              1.00000    160.000000        111.000000    879.000000   \n",
       "max              1.00000   6556.000000       1587.000000  38667.000000   \n",
       "\n",
       "       num_punctuations  mean_word_len  \n",
       "count      28440.000000   28440.000000  \n",
       "mean          22.695464       4.490633  \n",
       "std           32.694961       7.702693  \n",
       "min            0.000000       1.000000  \n",
       "25%            6.000000       4.153846  \n",
       "50%           13.000000       4.411494  \n",
       "75%           27.000000       4.666667  \n",
       "max         1508.000000    1300.000000  "
      ]
     },
     "execution_count": 20,
     "metadata": {},
     "output_type": "execute_result"
    }
   ],
   "source": [
    "# Find general statistics on hyperparameters\n",
    "HarryPotter_df.describe()"
   ]
  },
  {
   "cell_type": "code",
   "execution_count": 27,
   "metadata": {},
   "outputs": [],
   "source": [
    "# Filter reviews with less than 20 words\n",
    "HarryPotter_df = HarryPotter_df[HarryPotter_df.num_words > 20]"
   ]
  },
  {
   "cell_type": "markdown",
   "metadata": {},
   "source": [
    "## Summarization (TextRank Algorithm)"
   ]
  },
  {
   "cell_type": "code",
   "execution_count": 80,
   "metadata": {},
   "outputs": [],
   "source": [
    "# Create and utilize mask to filter reviews based on word count, punctions, product, and negative sentiment \n",
    "mask = ((HarryPotter_df.num_words >= 50) & (HarryPotter_df.num_punctuations >= 5) & (HarryPotter_df.product_title==\"Harry Potter And The Sorcerer's Stone\") & (HarryPotter_df.star_sentiment==-1))\n",
    "HarryPotter_Neg_df = HarryPotter_df[mask]\n",
    "HarryPotter_TopNeg_df = HarryPotter_Neg_df.nlargest(50,'total_votes')"
   ]
  },
  {
   "cell_type": "code",
   "execution_count": 81,
   "metadata": {},
   "outputs": [],
   "source": [
    "# Create and utilize mask to filter reviews based on word count, punctions, product, and positive sentiment \n",
    "mask = ((HarryPotter_df.num_words >= 50) & (HarryPotter_df.num_punctuations >= 5) & (HarryPotter_df.product_title==\"Harry Potter And The Sorcerer's Stone\") & (HarryPotter_df.star_sentiment==1))\n",
    "HarryPotter_Pos_df = HarryPotter_df[mask]\n",
    "HarryPotter_TopPos_df = HarryPotter_Pos_df.nlargest(50,'total_votes')"
   ]
  },
  {
   "cell_type": "code",
   "execution_count": 83,
   "metadata": {},
   "outputs": [
    {
     "name": "stderr",
     "output_type": "stream",
     "text": [
      "[nltk_data] Downloading package punkt to /home/ubuntu/nltk_data...\n",
      "[nltk_data]   Package punkt is already up-to-date!\n"
     ]
    },
    {
     "data": {
      "text/plain": [
       "True"
      ]
     },
     "execution_count": 83,
     "metadata": {},
     "output_type": "execute_result"
    }
   ],
   "source": [
    "import nltk\n",
    "\n",
    "# Download pre-trained 'punkt' tokenizer\n",
    "nltk.download('punkt')"
   ]
  },
  {
   "cell_type": "code",
   "execution_count": 84,
   "metadata": {},
   "outputs": [],
   "source": [
    "from nltk.tokenize import sent_tokenize\n",
    "\n",
    "# Divides a text into a list of sentences by using an unsupervised algorithm to build a model for abbreviation words, \n",
    "# collocations, and words that start sentences\n",
    "\n",
    "# Negative reviews\n",
    "negative_sentences_list = []\n",
    "for s in HarryPotter_TopNeg_df['review_body']:\n",
    "  negative_sentences_list.append(sent_tokenize(s))\n",
    "# Flatten sentence list\n",
    "negative_sentences_list = [y for x in negative_sentences_list for y in x]\n",
    "\n",
    "# Positive reviews\n",
    "positive_sentences_list = []\n",
    "for s in HarryPotter_TopPos_df['review_body']:\n",
    "  positive_sentences_list.append(sent_tokenize(s))\n",
    "# Flatten sentence list\n",
    "positive_sentences_list = [y for x in positive_sentences_list for y in x]"
   ]
  },
  {
   "cell_type": "code",
   "execution_count": 85,
   "metadata": {},
   "outputs": [
    {
     "data": {
      "text/plain": [
       "'An adult friend (age 49)loaned me three Harry Potter books for the summer.'"
      ]
     },
     "execution_count": 85,
     "metadata": {},
     "output_type": "execute_result"
    }
   ],
   "source": [
    "positive_sentences_list[0]"
   ]
  },
  {
   "cell_type": "code",
   "execution_count": 86,
   "metadata": {},
   "outputs": [],
   "source": [
    "# Extract word vectors from GloVe\n",
    "word_embeddings = {}\n",
    "f = open('glove.6B.100d.txt', encoding='utf-8')\n",
    "for line in f:\n",
    "    values = line.split()\n",
    "    word = values[0]\n",
    "    coefs = np.asarray(values[1:], dtype='float32')\n",
    "    word_embeddings[word] = coefs\n",
    "f.close()"
   ]
  },
  {
   "cell_type": "code",
   "execution_count": 87,
   "metadata": {},
   "outputs": [],
   "source": [
    "# Remove punctuations, numbers and special characters\n",
    "positive_clean_sentences = pd.Series(positive_sentences_list).str.replace(\"[^a-zA-Z]\", \" \")\n",
    "negative_clean_sentences = pd.Series(negative_sentences_list).str.replace(\"[^a-zA-Z]\", \" \")"
   ]
  },
  {
   "cell_type": "code",
   "execution_count": 88,
   "metadata": {},
   "outputs": [],
   "source": [
    "# Make characters lowercase\n",
    "positive_clean_sentences = [s.lower() for s in positive_clean_sentences]\n",
    "negative_clean_sentences = [s.lower() for s in negative_clean_sentences]"
   ]
  },
  {
   "cell_type": "code",
   "execution_count": 89,
   "metadata": {},
   "outputs": [
    {
     "name": "stderr",
     "output_type": "stream",
     "text": [
      "[nltk_data] Downloading package stopwords to /home/ubuntu/nltk_data...\n",
      "[nltk_data]   Package stopwords is already up-to-date!\n"
     ]
    },
    {
     "data": {
      "text/plain": [
       "True"
      ]
     },
     "execution_count": 89,
     "metadata": {},
     "output_type": "execute_result"
    }
   ],
   "source": [
    "# Download stopwords\n",
    "nltk.download('stopwords')"
   ]
  },
  {
   "cell_type": "code",
   "execution_count": 90,
   "metadata": {},
   "outputs": [],
   "source": [
    "# Create stopwords function\n",
    "from nltk.corpus import stopwords\n",
    "stop_words = stopwords.words('english')\n",
    "\n",
    "def remove_stopwords(sentence):\n",
    "    new_sentence = \" \".join([i for i in sentence if i not in stop_words])\n",
    "    return new_sentence"
   ]
  },
  {
   "cell_type": "code",
   "execution_count": 91,
   "metadata": {},
   "outputs": [],
   "source": [
    "# Remove stopwords\n",
    "positive_clean_sentences = [remove_stopwords(r.split()) for r in positive_clean_sentences]\n",
    "negative_clean_sentences = [remove_stopwords(r.split()) for r in negative_clean_sentences]"
   ]
  },
  {
   "cell_type": "code",
   "execution_count": 92,
   "metadata": {},
   "outputs": [],
   "source": [
    "# Funtion to create vector representation of sentences\n",
    "def sentence_vectors(clean_sentences):\n",
    "    sentence_vectors = []\n",
    "    for i in clean_sentences:\n",
    "      if len(i) != 0:\n",
    "        vector = sum([word_embeddings.get(w, np.zeros((100,))) for w in i.split()])/(len(i.split())+0.001)\n",
    "      else:\n",
    "        vector = np.zeros((100,))\n",
    "      sentence_vectors.append(vector)\n",
    "    return sentence_vectors"
   ]
  },
  {
   "cell_type": "code",
   "execution_count": 93,
   "metadata": {},
   "outputs": [],
   "source": [
    "# Create vector representation of negative sentences\n",
    "positive_sentence_vectors = sentence_vectors(positive_clean_sentences)\n",
    "negative_sentence_vectors = sentence_vectors(negative_clean_sentences)"
   ]
  },
  {
   "cell_type": "code",
   "execution_count": 94,
   "metadata": {},
   "outputs": [],
   "source": [
    "from sklearn.metrics.pairwise import cosine_similarity\n",
    "\n",
    "# Function to create similarity matrix\n",
    "def similarity_matrix(sentences_list, sentence_vectors):\n",
    "    sim_matrix = np.zeros([len(sentences_list), len(sentences_list)])\n",
    "    for i in range(len(sentences_list)):\n",
    "      for j in range(len(sentences_list)):\n",
    "        if i != j:\n",
    "          sim_matrix[i][j] = cosine_similarity(sentence_vectors[i].reshape(1,100), sentence_vectors[j].reshape(1,100))[0,0]\n",
    "    return sim_matrix"
   ]
  },
  {
   "cell_type": "code",
   "execution_count": 95,
   "metadata": {},
   "outputs": [],
   "source": [
    "# Create similarity matrixes\n",
    "postive_simiarity_matrix = similarity_matrix(positive_sentences_list, positive_sentence_vectors)\n",
    "negative_simiarity_matrix = similarity_matrix(negative_sentences_list, negative_sentence_vectors)"
   ]
  },
  {
   "cell_type": "code",
   "execution_count": 96,
   "metadata": {},
   "outputs": [],
   "source": [
    "import networkx as nx\n",
    "\n",
    "# Create graph of similarity matrixes and apply PageRank \n",
    "nx_graph = nx.from_numpy_array(postive_simiarity_matrix)\n",
    "positive_scores = nx.pagerank(nx_graph)\n",
    "nx_graph = nx.from_numpy_array(negative_simiarity_matrix)\n",
    "negitive_scores = nx.pagerank(nx_graph)"
   ]
  },
  {
   "cell_type": "code",
   "execution_count": 97,
   "metadata": {},
   "outputs": [
    {
     "name": "stdout",
     "output_type": "stream",
     "text": [
      "I've read an interesting theory (obviously not true), that a much different writer than Rowling would have ended Book 7 with Harry having imagined all this fantasy world, where he was so prominent and famous, to help escape the neglect and abuse from the Dursleys.He gets a letter (actually, hundreds) saying he is in fact a wizard.\n",
      "My mom had given it to me, and actually, i didn't want to read it.How wrong I was.Can I even start to explain the world and even life style that Harry has led me into.\n",
      "I'm  not sure why I like this book so much, except for the reason it's so fun to  read.Maybe J.K.Rowling went to Hogwarts herself and put a spell over her  book so that the people who read it will have their noses stuck in the book  and would have to do everything with one hand(Like what Ron said in book  2,when Harry found the diary)!\n",
      "When I read a good book, I get drawn into a different reality for a few days, and always hate to return to my own.\n",
      "I originally read this book because I needed a young adult book for class, but I ended up enjoying it far more than I thought I would.\n",
      "This book includes everything one could wish in a fantasy:  interesting characters, a strong tension between good and evil, plenty of  mystery, dramatic twists-and-turns, and a bit of magic.This book is a  must-read for kids and adults alike.\n",
      "As an adult, I was enthusiastic about this book, I can't even imagine what it would be like if I would have read this book as an eleven-year-old, I think I would have gone completely nuts.\n",
      "As an adult, I was enthusiastic about this book, I can't even imagine what it would be like if I would have read this book as an eleven-year-old, I think I would have gone completely nuts.\n",
      "Give Harry Potter a shot, I haven't met a person yet that didn't think that the book was worth the read, and in most cases, really good.\n",
      "The boy that  I would like to be.It doesn't matter what you're looking  for, you'll find in this book.\n"
     ]
    }
   ],
   "source": [
    "# Find Top 10 positive sentences for summary generation\n",
    "positive_ranked_sentences = sorted(((positive_scores[i],s) for i,s in enumerate(positive_sentences_list)), reverse=True)\n",
    "for i in range(10):\n",
    "  print(positive_ranked_sentences[i][1])"
   ]
  },
  {
   "cell_type": "code",
   "execution_count": 99,
   "metadata": {},
   "outputs": [
    {
     "name": "stdout",
     "output_type": "stream",
     "text": [
      "The half-twist ending did surprise me, but only because the rest of the story convinced me that the author wasn't truly capable of doing so--or perhaps didn't bother trying otherwise, considering her audience.Why cheat (rather than challenge) a child's sense of the wonderful if one is willing to (uncharacteristically) trust her sense of the horrible?But, in the end, the book's core tale of schooltime friendship and adventure manages to shine through, and when considered as a work of English boarding-school fiction rather than fantasy, it enjoys more than mild success.If you're looking for a great work of children's fantasy you may want to search elsewhere; if you're looking to kill a few hours with an enjoyable read, then \"Sorcerer's Stone\" could work for you.It's good fun at the very least, and certainly most kids will find it so.\n",
      "Well, I read it, and for the most part, and could see how kids would really enjoy the fantasy and the plot line (such as it is), but I can't understand why adults love this book so much.\n",
      "When I told a friend I had never read any of the books or seen any of the movies he insisted that I was \\\\\"missing out big time\\\\\" and being that we typically share the same taste in movies and books I decided to try reading the first one  and I have to say, I was pretty confused and disappointed with the story after I'd finished it.\n",
      "I'm normally a huge fan of fantasy material but I just felt like this book was following a familiar formula and seemed, not necessarily predicable, just not particularly surprising at any point (it really almost felt like something a non-fantasy writer would come up with in a semi-condescending effort just to sell books to fantasy fans because it hits most of the staples of things they've read before).\n",
      "After finally finishing the book I realized \\\\\"Oh, wow, that was such a page-turner, I'm surprised it wasn't some cheap dime-store pulp.\\\\\"I agree with many of the comments that I've read (but mostly the negative ones, which are severely lacking):*The plot is nothing new, and I've only read the first one*There are many elements that, far from being a \\\\\"tribute\\\\\" to great books/series such as Tolkien's LOTR and Lewis' Chronicles of Narnia, are merely lifted straight from the best elements of the said books.As examples, compare Dumbledore's suspiciously Gandalf-ish character description.\n",
      "It just seems like a set up for the next book, and I guess I don't find Harry or his world interesting enough to continue on.\n",
      "The reason why I let the whole series slip by with one star is because this is good literature for children.\n",
      "The reason why I let the whole series slip by with one star is because this is good literature for children.\n",
      "Now that I have finished the first book, I really have no interest in reading the second but I may sit down and watch the movie one day, it's just not a story that I believe is worthy of all the praise and attention it's getting, maybe it's just me but I don't see what all the fuss is about.I may sit down and watch the movie one day, it's just not a story that I believe is worthy of all the praise and attention it's getting, maybe it's just me but I don't see what all the fuss is about.\n",
      "I've been hearing for years about how much so many people love the Harry Potter books and movies but I've never really felt compelled to get into them.\n"
     ]
    }
   ],
   "source": [
    "# Find Top 10 negative sentences for summary generation\n",
    "negative_ranked_sentences = sorted(((negitive_scores[i],s) for i,s in enumerate(negative_sentences_list)), reverse=True)\n",
    "for i in range(10):\n",
    "  print(negative_ranked_sentences[i][1])"
   ]
  }
 ],
 "metadata": {
  "kernelspec": {
   "display_name": "Python 3",
   "language": "python",
   "name": "python3"
  },
  "language_info": {
   "codemirror_mode": {
    "name": "ipython",
    "version": 3
   },
   "file_extension": ".py",
   "mimetype": "text/x-python",
   "name": "python",
   "nbconvert_exporter": "python",
   "pygments_lexer": "ipython3",
   "version": "3.8.3"
  }
 },
 "nbformat": 4,
 "nbformat_minor": 4
}
