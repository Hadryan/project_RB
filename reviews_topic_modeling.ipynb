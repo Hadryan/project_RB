{
 "cells": [
  {
   "cell_type": "markdown",
   "metadata": {},
   "source": [
    "## Connecting to Data"
   ]
  },
  {
   "cell_type": "code",
   "execution_count": 1,
   "metadata": {},
   "outputs": [],
   "source": [
    "from pymongo import MongoClient\n",
    "\n",
    "# Connect the notebook to the MongoDB database - \"amazonreviews\"\n",
    "client = MongoClient()\n",
    "db = client.amazonreviews"
   ]
  },
  {
   "cell_type": "code",
   "execution_count": 2,
   "metadata": {},
   "outputs": [
    {
     "data": {
      "text/plain": [
       "[{'_id': ObjectId('5f391bb6bd04e741588262bc'),\n",
       "  'marketplace': 'US',\n",
       "  'customer_id': 32715830,\n",
       "  'review_id': 'R2GANXKDIFZ6OI',\n",
       "  'product_id': '014241543X',\n",
       "  'product_parent': 712432151,\n",
       "  'product_title': 'If I Stay',\n",
       "  'product_category': 'Books',\n",
       "  'star_rating': 5,\n",
       "  'helpful_votes': 0,\n",
       "  'total_votes': 0,\n",
       "  'vine': 'N',\n",
       "  'verified_purchase': 'N',\n",
       "  'review_headline': 'Five Stars',\n",
       "  'review_body': 'So beautiful',\n",
       "  'review_date': '2015-08-31'}]"
      ]
     },
     "execution_count": 2,
     "metadata": {},
     "output_type": "execute_result"
    }
   ],
   "source": [
    "# Show one of the documnets in the collection \"Books\"\n",
    "list(db.Books.find().limit(1))"
   ]
  },
  {
   "cell_type": "code",
   "execution_count": 3,
   "metadata": {},
   "outputs": [],
   "source": [
    "import pandas as pd\n",
    "\n",
    "# Create a new dataframe for the Harry Potter by using \"product_parent': 667539744\"\n",
    "HarryPotter_cursor = db.Books.find({'product_parent': 667539744 })\n",
    "HarryPotter_df_raw = pd.DataFrame(list(HarryPotter_cursor))  "
   ]
  },
  {
   "cell_type": "markdown",
   "metadata": {},
   "source": [
    "## Exploratory Data Analysis"
   ]
  },
  {
   "cell_type": "code",
   "execution_count": 4,
   "metadata": {},
   "outputs": [
    {
     "data": {
      "text/html": [
       "<div>\n",
       "<style scoped>\n",
       "    .dataframe tbody tr th:only-of-type {\n",
       "        vertical-align: middle;\n",
       "    }\n",
       "\n",
       "    .dataframe tbody tr th {\n",
       "        vertical-align: top;\n",
       "    }\n",
       "\n",
       "    .dataframe thead th {\n",
       "        text-align: right;\n",
       "    }\n",
       "</style>\n",
       "<table border=\"1\" class=\"dataframe\">\n",
       "  <thead>\n",
       "    <tr style=\"text-align: right;\">\n",
       "      <th></th>\n",
       "      <th>_id</th>\n",
       "      <th>marketplace</th>\n",
       "      <th>customer_id</th>\n",
       "      <th>review_id</th>\n",
       "      <th>product_id</th>\n",
       "      <th>product_parent</th>\n",
       "      <th>product_title</th>\n",
       "      <th>product_category</th>\n",
       "      <th>star_rating</th>\n",
       "      <th>helpful_votes</th>\n",
       "      <th>total_votes</th>\n",
       "      <th>vine</th>\n",
       "      <th>verified_purchase</th>\n",
       "      <th>review_headline</th>\n",
       "      <th>review_body</th>\n",
       "      <th>review_date</th>\n",
       "    </tr>\n",
       "  </thead>\n",
       "  <tbody>\n",
       "    <tr>\n",
       "      <th>0</th>\n",
       "      <td>5f391bb6bd04e74158826435</td>\n",
       "      <td>US</td>\n",
       "      <td>42198815</td>\n",
       "      <td>R1L0NE9TE6EAYU</td>\n",
       "      <td>7020033458</td>\n",
       "      <td>667539744</td>\n",
       "      <td>Harry Potter and the Prisoner of Azkaban (Simp...</td>\n",
       "      <td>Books</td>\n",
       "      <td>5</td>\n",
       "      <td>0</td>\n",
       "      <td>0</td>\n",
       "      <td>N</td>\n",
       "      <td>Y</td>\n",
       "      <td>Five Stars</td>\n",
       "      <td>GREAT THANKS.</td>\n",
       "      <td>2015-08-31</td>\n",
       "    </tr>\n",
       "    <tr>\n",
       "      <th>1</th>\n",
       "      <td>5f391bb6bd04e74158827679</td>\n",
       "      <td>US</td>\n",
       "      <td>5328185</td>\n",
       "      <td>RD5V8C95DUZZ7</td>\n",
       "      <td>059035342X</td>\n",
       "      <td>667539744</td>\n",
       "      <td>Harry Potter and the Sorcerer's Stone</td>\n",
       "      <td>Books</td>\n",
       "      <td>5</td>\n",
       "      <td>0</td>\n",
       "      <td>0</td>\n",
       "      <td>N</td>\n",
       "      <td>N</td>\n",
       "      <td>This book is absolutely amazing! It is a favor...</td>\n",
       "      <td>This book is absolutely amazing! It is a favor...</td>\n",
       "      <td>2015-08-31</td>\n",
       "    </tr>\n",
       "    <tr>\n",
       "      <th>2</th>\n",
       "      <td>5f391bb6bd04e741588280ad</td>\n",
       "      <td>US</td>\n",
       "      <td>42237878</td>\n",
       "      <td>R3LW2TZQ5FLYGF</td>\n",
       "      <td>545162076</td>\n",
       "      <td>667539744</td>\n",
       "      <td>Harry Potter Paperback Box Set (Books 1-7)</td>\n",
       "      <td>Books</td>\n",
       "      <td>5</td>\n",
       "      <td>0</td>\n",
       "      <td>1</td>\n",
       "      <td>N</td>\n",
       "      <td>Y</td>\n",
       "      <td>Five Stars</td>\n",
       "      <td>What's not to love about Harry Potter? Books w...</td>\n",
       "      <td>2015-08-31</td>\n",
       "    </tr>\n",
       "    <tr>\n",
       "      <th>3</th>\n",
       "      <td>5f391bb6bd04e741588280fc</td>\n",
       "      <td>US</td>\n",
       "      <td>12175857</td>\n",
       "      <td>R26KVAWWVTNZHF</td>\n",
       "      <td>439136369</td>\n",
       "      <td>667539744</td>\n",
       "      <td>Harry Potter and the Prisoner of Azkaban</td>\n",
       "      <td>Books</td>\n",
       "      <td>4</td>\n",
       "      <td>0</td>\n",
       "      <td>0</td>\n",
       "      <td>N</td>\n",
       "      <td>N</td>\n",
       "      <td>Rowling escalates her game and ups the ante</td>\n",
       "      <td>Prisoner_of_Azkaban_coverDo I need to put a su...</td>\n",
       "      <td>2015-08-31</td>\n",
       "    </tr>\n",
       "    <tr>\n",
       "      <th>4</th>\n",
       "      <td>5f391bb7bd04e741588290c6</td>\n",
       "      <td>US</td>\n",
       "      <td>16802733</td>\n",
       "      <td>RWIEHV6WZYGD7</td>\n",
       "      <td>545010225</td>\n",
       "      <td>667539744</td>\n",
       "      <td>Harry Potter and the Deathly Hallows (Book 7)</td>\n",
       "      <td>Books</td>\n",
       "      <td>5</td>\n",
       "      <td>0</td>\n",
       "      <td>0</td>\n",
       "      <td>N</td>\n",
       "      <td>Y</td>\n",
       "      <td>Harry Potter... enough said.</td>\n",
       "      <td>Harry Potter... enough said.</td>\n",
       "      <td>2015-08-31</td>\n",
       "    </tr>\n",
       "  </tbody>\n",
       "</table>\n",
       "</div>"
      ],
      "text/plain": [
       "                        _id marketplace  customer_id       review_id  \\\n",
       "0  5f391bb6bd04e74158826435          US     42198815  R1L0NE9TE6EAYU   \n",
       "1  5f391bb6bd04e74158827679          US      5328185   RD5V8C95DUZZ7   \n",
       "2  5f391bb6bd04e741588280ad          US     42237878  R3LW2TZQ5FLYGF   \n",
       "3  5f391bb6bd04e741588280fc          US     12175857  R26KVAWWVTNZHF   \n",
       "4  5f391bb7bd04e741588290c6          US     16802733   RWIEHV6WZYGD7   \n",
       "\n",
       "   product_id  product_parent  \\\n",
       "0  7020033458       667539744   \n",
       "1  059035342X       667539744   \n",
       "2   545162076       667539744   \n",
       "3   439136369       667539744   \n",
       "4   545010225       667539744   \n",
       "\n",
       "                                       product_title product_category  \\\n",
       "0  Harry Potter and the Prisoner of Azkaban (Simp...            Books   \n",
       "1              Harry Potter and the Sorcerer's Stone            Books   \n",
       "2         Harry Potter Paperback Box Set (Books 1-7)            Books   \n",
       "3           Harry Potter and the Prisoner of Azkaban            Books   \n",
       "4      Harry Potter and the Deathly Hallows (Book 7)            Books   \n",
       "\n",
       "   star_rating  helpful_votes  total_votes vine verified_purchase  \\\n",
       "0            5              0            0    N                 Y   \n",
       "1            5              0            0    N                 N   \n",
       "2            5              0            1    N                 Y   \n",
       "3            4              0            0    N                 N   \n",
       "4            5              0            0    N                 Y   \n",
       "\n",
       "                                     review_headline  \\\n",
       "0                                         Five Stars   \n",
       "1  This book is absolutely amazing! It is a favor...   \n",
       "2                                         Five Stars   \n",
       "3        Rowling escalates her game and ups the ante   \n",
       "4                       Harry Potter... enough said.   \n",
       "\n",
       "                                         review_body review_date  \n",
       "0                                      GREAT THANKS.  2015-08-31  \n",
       "1  This book is absolutely amazing! It is a favor...  2015-08-31  \n",
       "2  What's not to love about Harry Potter? Books w...  2015-08-31  \n",
       "3  Prisoner_of_Azkaban_coverDo I need to put a su...  2015-08-31  \n",
       "4                       Harry Potter... enough said.  2015-08-31  "
      ]
     },
     "execution_count": 4,
     "metadata": {},
     "output_type": "execute_result"
    }
   ],
   "source": [
    "# Show the first five rows in the dataframe \"HP_df_raw\"\n",
    "HarryPotter_df_raw.head(5)"
   ]
  },
  {
   "cell_type": "code",
   "execution_count": 5,
   "metadata": {},
   "outputs": [
    {
     "name": "stdout",
     "output_type": "stream",
     "text": [
      "<class 'pandas.core.frame.DataFrame'>\n",
      "RangeIndex: 28440 entries, 0 to 28439\n",
      "Data columns (total 16 columns):\n",
      " #   Column             Non-Null Count  Dtype \n",
      "---  ------             --------------  ----- \n",
      " 0   _id                28440 non-null  object\n",
      " 1   marketplace        28440 non-null  object\n",
      " 2   customer_id        28440 non-null  int64 \n",
      " 3   review_id          28440 non-null  object\n",
      " 4   product_id         28440 non-null  object\n",
      " 5   product_parent     28440 non-null  int64 \n",
      " 6   product_title      28440 non-null  object\n",
      " 7   product_category   28440 non-null  object\n",
      " 8   star_rating        28440 non-null  int64 \n",
      " 9   helpful_votes      28440 non-null  int64 \n",
      " 10  total_votes        28440 non-null  int64 \n",
      " 11  vine               28440 non-null  object\n",
      " 12  verified_purchase  28440 non-null  object\n",
      " 13  review_headline    28440 non-null  object\n",
      " 14  review_body        28440 non-null  object\n",
      " 15  review_date        28440 non-null  object\n",
      "dtypes: int64(5), object(11)\n",
      "memory usage: 3.5+ MB\n"
     ]
    }
   ],
   "source": [
    "# Get info on \"HarryPotter_df_raw\"\n",
    "HarryPotter_df_raw.info()"
   ]
  },
  {
   "cell_type": "code",
   "execution_count": 6,
   "metadata": {},
   "outputs": [
    {
     "data": {
      "text/plain": [
       "_id                  False\n",
       "marketplace          False\n",
       "customer_id          False\n",
       "review_id            False\n",
       "product_id           False\n",
       "product_parent       False\n",
       "product_title        False\n",
       "product_category     False\n",
       "star_rating          False\n",
       "helpful_votes        False\n",
       "total_votes          False\n",
       "vine                 False\n",
       "verified_purchase    False\n",
       "review_headline      False\n",
       "review_body          False\n",
       "review_date          False\n",
       "dtype: bool"
      ]
     },
     "execution_count": 6,
     "metadata": {},
     "output_type": "execute_result"
    }
   ],
   "source": [
    "# Check for NaN values\n",
    "HarryPotter_df_raw.isnull().any()"
   ]
  },
  {
   "cell_type": "code",
   "execution_count": 7,
   "metadata": {},
   "outputs": [],
   "source": [
    "# Filter columns and delete \"HarryPotter_df_raw\"\n",
    "HarryPotter_df = HarryPotter_df_raw.filter(['marketplace','customer_id','review_id','product_id','product_title','roduct_title','star_rating','helpful_votes','total_votes','vine','verified_purchase','review_headline','review_body','review_date'])\n",
    "del HarryPotter_df_raw"
   ]
  },
  {
   "cell_type": "code",
   "execution_count": 8,
   "metadata": {},
   "outputs": [],
   "source": [
    "# Revome any duplicates\n",
    "HarryPotter_df = HarryPotter_df.drop_duplicates(subset=['review_id'])"
   ]
  },
  {
   "cell_type": "code",
   "execution_count": 9,
   "metadata": {},
   "outputs": [],
   "source": [
    "# Change \"Y\" and \"N\" to integers 1 and 0\n",
    "HarryPotter_df = HarryPotter_df.replace('Y', 1)\n",
    "HarryPotter_df = HarryPotter_df.replace('N', 0)"
   ]
  },
  {
   "cell_type": "code",
   "execution_count": 10,
   "metadata": {},
   "outputs": [],
   "source": [
    "import bs4\n",
    "\n",
    "# Revome HTML\n",
    "HarryPotter_df['review_body'] = HarryPotter_df['review_body'].apply(lambda x: bs4.BeautifulSoup(x, 'lxml').get_text())"
   ]
  },
  {
   "cell_type": "markdown",
   "metadata": {},
   "source": [
    " ### Hyperparameter"
   ]
  },
  {
   "cell_type": "code",
   "execution_count": 11,
   "metadata": {},
   "outputs": [],
   "source": [
    "# Create sentiment parameter based on star rating\n",
    "def get_sentiment(value):\n",
    "    if value > 3:\n",
    "        return 1\n",
    "    elif value < 3:\n",
    "        return -1\n",
    "    else:\n",
    "        return 0\n",
    "\n",
    "HarryPotter_df['star_sentiment'] = HarryPotter_df.star_rating.apply(get_sentiment)"
   ]
  },
  {
   "cell_type": "code",
   "execution_count": 12,
   "metadata": {},
   "outputs": [
    {
     "name": "stdout",
     "output_type": "stream",
     "text": [
      " 1    25750\n",
      " 0     1415\n",
      "-1     1275\n",
      "Name: star_sentiment, dtype: int64\n"
     ]
    }
   ],
   "source": [
    "# Find number of review for each sentiment\n",
    "print(HarryPotter_df['star_sentiment'].value_counts())"
   ]
  },
  {
   "cell_type": "code",
   "execution_count": 13,
   "metadata": {},
   "outputs": [],
   "source": [
    "# Find number of words in review_body\n",
    "HarryPotter_df[\"num_words\"] = HarryPotter_df[\"review_body\"].apply(lambda x: len(str(x).split()))"
   ]
  },
  {
   "cell_type": "code",
   "execution_count": 14,
   "metadata": {},
   "outputs": [],
   "source": [
    "# Find number of unique words in review_body\n",
    "HarryPotter_df[\"num_unique_words\"] = HarryPotter_df[\"review_body\"].apply(lambda x: len(set(str(x).split())))"
   ]
  },
  {
   "cell_type": "code",
   "execution_count": 15,
   "metadata": {},
   "outputs": [],
   "source": [
    "# Find number of characters in review_body\n",
    "HarryPotter_df[\"num_chars\"] = HarryPotter_df[\"review_body\"].apply(lambda x: len(str(x)))"
   ]
  },
  {
   "cell_type": "code",
   "execution_count": 16,
   "metadata": {},
   "outputs": [],
   "source": [
    "import string\n",
    "\n",
    "# Find number of punctuation marks in review_body\n",
    "HarryPotter_df[\"num_punctuations\"] = HarryPotter_df['review_body'].apply(lambda x: len([c for c in str(x) if c in string.punctuation]) )"
   ]
  },
  {
   "cell_type": "code",
   "execution_count": 17,
   "metadata": {},
   "outputs": [],
   "source": [
    "import numpy as np\n",
    "\n",
    "# Find average length of the words in review_body\n",
    "HarryPotter_df[\"mean_word_len\"] = HarryPotter_df[\"review_body\"].apply(lambda x: np.mean([len(w) for w in str(x).split()]))"
   ]
  },
  {
   "cell_type": "code",
   "execution_count": 18,
   "metadata": {},
   "outputs": [
    {
     "data": {
      "text/html": [
       "<div>\n",
       "<style scoped>\n",
       "    .dataframe tbody tr th:only-of-type {\n",
       "        vertical-align: middle;\n",
       "    }\n",
       "\n",
       "    .dataframe tbody tr th {\n",
       "        vertical-align: top;\n",
       "    }\n",
       "\n",
       "    .dataframe thead th {\n",
       "        text-align: right;\n",
       "    }\n",
       "</style>\n",
       "<table border=\"1\" class=\"dataframe\">\n",
       "  <thead>\n",
       "    <tr style=\"text-align: right;\">\n",
       "      <th></th>\n",
       "      <th>customer_id</th>\n",
       "      <th>star_rating</th>\n",
       "      <th>helpful_votes</th>\n",
       "      <th>total_votes</th>\n",
       "      <th>vine</th>\n",
       "      <th>verified_purchase</th>\n",
       "      <th>star_sentiment</th>\n",
       "      <th>num_words</th>\n",
       "      <th>num_unique_words</th>\n",
       "      <th>num_chars</th>\n",
       "      <th>num_punctuations</th>\n",
       "      <th>mean_word_len</th>\n",
       "    </tr>\n",
       "  </thead>\n",
       "  <tbody>\n",
       "    <tr>\n",
       "      <th>count</th>\n",
       "      <td>2.844000e+04</td>\n",
       "      <td>28440.000000</td>\n",
       "      <td>28440.000000</td>\n",
       "      <td>28440.000000</td>\n",
       "      <td>28440.0</td>\n",
       "      <td>28440.00000</td>\n",
       "      <td>28440.000000</td>\n",
       "      <td>28440.000000</td>\n",
       "      <td>28440.000000</td>\n",
       "      <td>28440.000000</td>\n",
       "      <td>28440.000000</td>\n",
       "      <td>28440.000000</td>\n",
       "    </tr>\n",
       "    <tr>\n",
       "      <th>mean</th>\n",
       "      <td>3.771665e+07</td>\n",
       "      <td>4.621624</td>\n",
       "      <td>1.789768</td>\n",
       "      <td>3.215084</td>\n",
       "      <td>0.0</td>\n",
       "      <td>0.30770</td>\n",
       "      <td>0.860584</td>\n",
       "      <td>130.238432</td>\n",
       "      <td>84.628200</td>\n",
       "      <td>721.107419</td>\n",
       "      <td>22.695464</td>\n",
       "      <td>4.490633</td>\n",
       "    </tr>\n",
       "    <tr>\n",
       "      <th>std</th>\n",
       "      <td>1.475048e+07</td>\n",
       "      <td>0.860609</td>\n",
       "      <td>16.472034</td>\n",
       "      <td>20.485293</td>\n",
       "      <td>0.0</td>\n",
       "      <td>0.46155</td>\n",
       "      <td>0.457875</td>\n",
       "      <td>164.755524</td>\n",
       "      <td>77.379865</td>\n",
       "      <td>943.888726</td>\n",
       "      <td>32.694961</td>\n",
       "      <td>7.702693</td>\n",
       "    </tr>\n",
       "    <tr>\n",
       "      <th>min</th>\n",
       "      <td>1.558400e+04</td>\n",
       "      <td>1.000000</td>\n",
       "      <td>0.000000</td>\n",
       "      <td>0.000000</td>\n",
       "      <td>0.0</td>\n",
       "      <td>0.00000</td>\n",
       "      <td>-1.000000</td>\n",
       "      <td>1.000000</td>\n",
       "      <td>1.000000</td>\n",
       "      <td>1.000000</td>\n",
       "      <td>0.000000</td>\n",
       "      <td>1.000000</td>\n",
       "    </tr>\n",
       "    <tr>\n",
       "      <th>25%</th>\n",
       "      <td>2.650001e+07</td>\n",
       "      <td>5.000000</td>\n",
       "      <td>0.000000</td>\n",
       "      <td>0.000000</td>\n",
       "      <td>0.0</td>\n",
       "      <td>0.00000</td>\n",
       "      <td>1.000000</td>\n",
       "      <td>38.000000</td>\n",
       "      <td>33.000000</td>\n",
       "      <td>202.000000</td>\n",
       "      <td>6.000000</td>\n",
       "      <td>4.153846</td>\n",
       "    </tr>\n",
       "    <tr>\n",
       "      <th>50%</th>\n",
       "      <td>4.331718e+07</td>\n",
       "      <td>5.000000</td>\n",
       "      <td>0.000000</td>\n",
       "      <td>1.000000</td>\n",
       "      <td>0.0</td>\n",
       "      <td>0.00000</td>\n",
       "      <td>1.000000</td>\n",
       "      <td>82.000000</td>\n",
       "      <td>63.000000</td>\n",
       "      <td>439.000000</td>\n",
       "      <td>13.000000</td>\n",
       "      <td>4.411494</td>\n",
       "    </tr>\n",
       "    <tr>\n",
       "      <th>75%</th>\n",
       "      <td>5.066011e+07</td>\n",
       "      <td>5.000000</td>\n",
       "      <td>1.000000</td>\n",
       "      <td>2.000000</td>\n",
       "      <td>0.0</td>\n",
       "      <td>1.00000</td>\n",
       "      <td>1.000000</td>\n",
       "      <td>160.000000</td>\n",
       "      <td>111.000000</td>\n",
       "      <td>879.000000</td>\n",
       "      <td>27.000000</td>\n",
       "      <td>4.666667</td>\n",
       "    </tr>\n",
       "    <tr>\n",
       "      <th>max</th>\n",
       "      <td>5.309619e+07</td>\n",
       "      <td>5.000000</td>\n",
       "      <td>1550.000000</td>\n",
       "      <td>1646.000000</td>\n",
       "      <td>0.0</td>\n",
       "      <td>1.00000</td>\n",
       "      <td>1.000000</td>\n",
       "      <td>6556.000000</td>\n",
       "      <td>1587.000000</td>\n",
       "      <td>38667.000000</td>\n",
       "      <td>1508.000000</td>\n",
       "      <td>1300.000000</td>\n",
       "    </tr>\n",
       "  </tbody>\n",
       "</table>\n",
       "</div>"
      ],
      "text/plain": [
       "        customer_id   star_rating  helpful_votes   total_votes     vine  \\\n",
       "count  2.844000e+04  28440.000000   28440.000000  28440.000000  28440.0   \n",
       "mean   3.771665e+07      4.621624       1.789768      3.215084      0.0   \n",
       "std    1.475048e+07      0.860609      16.472034     20.485293      0.0   \n",
       "min    1.558400e+04      1.000000       0.000000      0.000000      0.0   \n",
       "25%    2.650001e+07      5.000000       0.000000      0.000000      0.0   \n",
       "50%    4.331718e+07      5.000000       0.000000      1.000000      0.0   \n",
       "75%    5.066011e+07      5.000000       1.000000      2.000000      0.0   \n",
       "max    5.309619e+07      5.000000    1550.000000   1646.000000      0.0   \n",
       "\n",
       "       verified_purchase  star_sentiment     num_words  num_unique_words  \\\n",
       "count        28440.00000    28440.000000  28440.000000      28440.000000   \n",
       "mean             0.30770        0.860584    130.238432         84.628200   \n",
       "std              0.46155        0.457875    164.755524         77.379865   \n",
       "min              0.00000       -1.000000      1.000000          1.000000   \n",
       "25%              0.00000        1.000000     38.000000         33.000000   \n",
       "50%              0.00000        1.000000     82.000000         63.000000   \n",
       "75%              1.00000        1.000000    160.000000        111.000000   \n",
       "max              1.00000        1.000000   6556.000000       1587.000000   \n",
       "\n",
       "          num_chars  num_punctuations  mean_word_len  \n",
       "count  28440.000000      28440.000000   28440.000000  \n",
       "mean     721.107419         22.695464       4.490633  \n",
       "std      943.888726         32.694961       7.702693  \n",
       "min        1.000000          0.000000       1.000000  \n",
       "25%      202.000000          6.000000       4.153846  \n",
       "50%      439.000000         13.000000       4.411494  \n",
       "75%      879.000000         27.000000       4.666667  \n",
       "max    38667.000000       1508.000000    1300.000000  "
      ]
     },
     "execution_count": 18,
     "metadata": {},
     "output_type": "execute_result"
    }
   ],
   "source": [
    "# Find general statistics on hyperparameters\n",
    "HarryPotter_df.describe()"
   ]
  },
  {
   "cell_type": "code",
   "execution_count": 19,
   "metadata": {},
   "outputs": [],
   "source": [
    "# Filter reviews with less than 20 words\n",
    "# HarryPotter_df = HarryPotter_df[HarryPotter_df.num_words > 20]"
   ]
  },
  {
   "cell_type": "markdown",
   "metadata": {},
   "source": [
    "### NLP Preprocessing (SpaCy)"
   ]
  },
  {
   "cell_type": "code",
   "execution_count": 25,
   "metadata": {},
   "outputs": [],
   "source": [
    "# Import needed libraries \n",
    "import spacy\n",
    "import en_core_web_md\n",
    "from spacy.lemmatizer import Lemmatizer\n",
    "from spacy.lang.en.stop_words import STOP_WORDS\n",
    "from collections import Counter\n",
    "\n",
    "# Load SpaCy model\n",
    "nlp = en_core_web_md.load()"
   ]
  },
  {
   "cell_type": "code",
   "execution_count": 21,
   "metadata": {},
   "outputs": [],
   "source": [
    "# Preprocess review_body\n",
    "HarryPotter_df['review_body'] = HarryPotter_df.review_body.str.lower()\n",
    "HarryPotter_df['spacy_body'] = list(nlp.pipe(HarryPotter_df.review_body))"
   ]
  },
  {
   "cell_type": "code",
   "execution_count": 22,
   "metadata": {},
   "outputs": [],
   "source": [
    "# Preprocess review_headline\n",
    "HarryPotter_df['review_headline'] = HarryPotter_df.review_headline.str.lower()\n",
    "HarryPotter_df['spacy_headline'] = list(nlp.pipe(HarryPotter_df.review_headline))"
   ]
  },
  {
   "cell_type": "code",
   "execution_count": 23,
   "metadata": {},
   "outputs": [],
   "source": [
    "# Seperate dataframe by sentiment\n",
    "positive_reviews = HarryPotter_df[HarryPotter_df.star_sentiment==1]\n",
    "negative_reviews = HarryPotter_df[HarryPotter_df.star_sentiment==-1]\n",
    "neutral_reviews = HarryPotter_df[HarryPotter_df.star_sentiment==0]"
   ]
  },
  {
   "cell_type": "code",
   "execution_count": 27,
   "metadata": {},
   "outputs": [
    {
     "name": "stdout",
     "output_type": "stream",
     "text": [
      "[('great', 8600), ('first', 7996), ('good', 7265), ('more', 6790), ('best', 5891), ('other', 5513), ('many', 5241), ('new', 5211), ('old', 3990), ('little', 3268)]\n",
      "[('good', 538), ('first', 462), ('other', 426), ('more', 350), ('many', 303), ('bad', 282), ('new', 245), ('great', 228), ('better', 219), ('much', 212)]\n"
     ]
    }
   ],
   "source": [
    "# Get top adjectives\n",
    "pos_adj = [token.text for doc in positive_reviews.spacy_body for token in doc if token.pos_=='ADJ']\n",
    "print(Counter(pos_adj).most_common(10))\n",
    "neg_adj = [token.text for doc in negative_reviews.spacy_body for token in doc if token.pos_=='ADJ']\n",
    "print(Counter(neg_adj).most_common(10))"
   ]
  },
  {
   "cell_type": "code",
   "execution_count": 28,
   "metadata": {},
   "outputs": [
    {
     "name": "stdout",
     "output_type": "stream",
     "text": [
      "[('book', 53047), ('books', 21413), ('series', 11315), ('story', 7965), ('characters', 7518), ('time', 6380), ('world', 6177), ('year', 4876), ('children', 4730), ('people', 4345)]\n",
      "[('book', 2954), ('books', 1413), ('series', 559), ('story', 520), ('characters', 490), ('time', 377), ('plot', 358), ('pages', 354), ('character', 346), ('children', 297)]\n"
     ]
    }
   ],
   "source": [
    "# Get top nouns\n",
    "pos_noun = [token.text for doc in positive_reviews.spacy_body for token in doc if token.pos_=='NOUN']\n",
    "print(Counter(pos_noun).most_common(10))\n",
    "neg_noun = [token.text for doc in negative_reviews.spacy_body for token in doc if token.pos_=='NOUN']\n",
    "print(Counter(neg_noun).most_common(10))"
   ]
  },
  {
   "cell_type": "markdown",
   "metadata": {},
   "source": [
    "## Latent Dirichlet Allocation (LDA) Topic Modeling (with SpaCy and Gensim)"
   ]
  },
  {
   "cell_type": "code",
   "execution_count": 29,
   "metadata": {},
   "outputs": [],
   "source": [
    "# Import needed libraries \n",
    "import gensim\n",
    "import gensim.corpora as corpora\n",
    "from gensim.utils import simple_preprocess\n",
    "from gensim.models import CoherenceModel"
   ]
  },
  {
   "cell_type": "code",
   "execution_count": 30,
   "metadata": {},
   "outputs": [],
   "source": [
    "# Function to prepare corpus\n",
    "def prep_tm_corp(corpus):\n",
    "    new_corpus=[]\n",
    "    for doc in corpus:\n",
    "        doc_list=[]\n",
    "        for token in doc:\n",
    "            if token.lemma_ != '-PRON-' and token.is_stop != True and token.is_punct != True:\n",
    "                doc_list.append(token.lemma_)\n",
    "        new_corpus.append(doc_list)\n",
    "    return new_corpus"
   ]
  },
  {
   "cell_type": "code",
   "execution_count": 32,
   "metadata": {},
   "outputs": [],
   "source": [
    "# Prepare positives reviews\n",
    "corpus = positive_reviews.spacy_body\n",
    "prep_corpus = prep_tm_corp(corpus)\n",
    "words = corpora.Dictionary(prep_corpus)\n",
    "corpus = [words.doc2bow(doc) for doc in prep_corpus]"
   ]
  },
  {
   "cell_type": "code",
   "execution_count": 41,
   "metadata": {},
   "outputs": [],
   "source": [
    "# Create LDA model\n",
    "lda_model = gensim.models.ldamodel.LdaModel(corpus=corpus,\n",
    "                                           id2word=words,\n",
    "                                           num_topics=10, \n",
    "                                           random_state=2,\n",
    "                                           update_every=1,\n",
    "                                           passes=10,\n",
    "                                           alpha='auto',\n",
    "                                           per_word_topics=True)"
   ]
  },
  {
   "cell_type": "code",
   "execution_count": 42,
   "metadata": {},
   "outputs": [
    {
     "data": {
      "text/plain": [
       "[(0,\n",
       "  '0.059*\"wow\" + 0.058*\"recomend\" + 0.043*\"definately\" + 0.042*\"reccomend\" + 0.021*\"mood\" + 0.016*\"yr\" + 0.013*\"latin\" + 0.013*\"un\" + 0.012*\"weak\" + 0.011*\"winner\"'),\n",
       " (1,\n",
       "  '0.017*\"de\" + 0.014*\"la\" + 0.014*\"credit\" + 0.011*\"y\" + 0.010*\"pen\" + 0.008*\"en\" + 0.008*\"que\" + 0.006*\"al\" + 0.006*\"dictionary\" + 0.006*\"et\"'),\n",
       " (2,\n",
       "  '0.066*\"son\" + 0.055*\"daughter\" + 0.022*\"christmas\" + 0.020*\"english\" + 0.020*\"gift\" + 0.017*\"old\" + 0.013*\"fresh\" + 0.013*\"confusing\" + 0.010*\"nephew\" + 0.010*\"hurry\"'),\n",
       " (3,\n",
       "  '0.137*\" \" + 0.042*\"harry\" + 0.014*\"rowling\" + 0.014*\"book\" + 0.013*\"potter\" + 0.010*\"character\" + 0.008*\"child\" + 0.007*\"year\" + 0.007*\"story\" + 0.007*\"world\"'),\n",
       " (4,\n",
       "  '0.048*\"tape\" + 0.026*\"king\" + 0.024*\"stage\" + 0.022*\"rare\" + 0.019*\"manner\" + 0.013*\"hungry\" + 0.013*\"performance\" + 0.009*\"overly\" + 0.009*\"narration\" + 0.009*\"stephen\"'),\n",
       " (5,\n",
       "  '0.162*\"book\" + 0.087*\"read\" + 0.031*\"potter\" + 0.028*\"good\" + 0.020*\"love\" + 0.019*\"great\" + 0.019*\"series\" + 0.018*\"think\" + 0.018*\"like\" + 0.016*\"harry\"'),\n",
       " (6,\n",
       "  '0.043*\"set\" + 0.029*\"cover\" + 0.019*\"purchase\" + 0.018*\"buy\" + 0.017*\"box\" + 0.015*\"amazon\" + 0.015*\"edition\" + 0.013*\"alot\" + 0.013*\"loose\" + 0.013*\"deliver\"'),\n",
       " (7,\n",
       "  '0.014*\"tiny\" + 0.013*\"classroom\" + 0.013*\"despise\" + 0.009*\"illustrate\" + 0.007*\"motivate\" + 0.007*\"nick\" + 0.006*\"useful\" + 0.005*\"alternate\" + 0.005*\"p\" + 0.004*\"acquire\"'),\n",
       " (8,\n",
       "  '0.065*\"listen\" + 0.049*\"dale\" + 0.042*\"jim\" + 0.040*\"voice\" + 0.034*\"audio\" + 0.023*\"aspect\" + 0.021*\"cd\" + 0.017*\"books\" + 0.016*\"car\" + 0.015*\"version\"'),\n",
       " (9,\n",
       "  '0.054*\"lewis\" + 0.028*\"c.s\" + 0.020*\"seller\" + 0.018*\"arrival\" + 0.007*\"relatively\" + 0.007*\"cease\" + 0.007*\"plane\" + 0.006*\"season\" + 0.005*\"madeleine\" + 0.005*\"internal\"')]"
      ]
     },
     "execution_count": 42,
     "metadata": {},
     "output_type": "execute_result"
    }
   ],
   "source": [
    "# Print topics with key words\n",
    "lda_model.print_topics()"
   ]
  }
 ],
 "metadata": {
  "kernelspec": {
   "display_name": "Python 3",
   "language": "python",
   "name": "python3"
  },
  "language_info": {
   "codemirror_mode": {
    "name": "ipython",
    "version": 3
   },
   "file_extension": ".py",
   "mimetype": "text/x-python",
   "name": "python",
   "nbconvert_exporter": "python",
   "pygments_lexer": "ipython3",
   "version": "3.8.3"
  }
 },
 "nbformat": 4,
 "nbformat_minor": 4
}
